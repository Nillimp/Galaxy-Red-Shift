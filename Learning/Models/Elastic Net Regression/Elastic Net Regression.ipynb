{
 "cells": [
  {
   "cell_type": "code",
   "execution_count": 5,
   "metadata": {},
   "outputs": [
    {
     "name": "stdout",
     "output_type": "stream",
     "text": [
      "RMSE (Elastic Net): 0.10031290445806958\n",
      "R-squared (Elastic Net): -2.2721830468253046e-06\n"
     ]
    },
    {
     "name": "stderr",
     "output_type": "stream",
     "text": [
      "c:\\Users\\klair\\anaconda3\\Lib\\site-packages\\sklearn\\metrics\\_regression.py:483: FutureWarning: 'squared' is deprecated in version 1.4 and will be removed in 1.6. To calculate the root mean squared error, use the function'root_mean_squared_error'.\n",
      "  warnings.warn(\n"
     ]
    }
   ],
   "source": [
    "import pandas as pd\n",
    "from sklearn.model_selection import train_test_split\n",
    "from sklearn.linear_model import ElasticNet\n",
    "from sklearn.metrics import mean_squared_error, r2_score\n",
    "\n",
    "file_path = 'SDSS_DR18_GALAXY.csv'\n",
    "data = pd.read_csv(file_path)\n",
    "\n",
    "X = data[['u', 'g', 'r', 'i', 'z']]\n",
    "y = data['redshift']\n",
    "\n",
    "X_train, X_test, y_train, y_test = train_test_split(X, y, test_size=0.3, random_state=42)\n",
    "\n",
    "model_enet = ElasticNet(alpha=1.0, l1_ratio=0.5, random_state=42)\n",
    "\n",
    "model_enet.fit(X_train, y_train)\n",
    "\n",
    "y_pred = model_enet.predict(X_test)\n",
    "\n",
    "rmse_enet = mean_squared_error(y_test, y_pred, squared=False)\n",
    "r2_enet = r2_score(y_test, y_pred)\n",
    "\n",
    "print(\"RMSE (Elastic Net):\", rmse_enet)\n",
    "print(\"R-squared (Elastic Net):\", r2_enet)\n"
   ]
  }
 ],
 "metadata": {
  "kernelspec": {
   "display_name": "base",
   "language": "python",
   "name": "python3"
  },
  "language_info": {
   "codemirror_mode": {
    "name": "ipython",
    "version": 3
   },
   "file_extension": ".py",
   "mimetype": "text/x-python",
   "name": "python",
   "nbconvert_exporter": "python",
   "pygments_lexer": "ipython3",
   "version": "3.12.4"
  }
 },
 "nbformat": 4,
 "nbformat_minor": 2
}
