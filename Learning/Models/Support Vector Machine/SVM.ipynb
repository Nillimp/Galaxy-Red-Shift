{
 "cells": [
  {
   "cell_type": "code",
   "execution_count": null,
   "metadata": {},
   "outputs": [],
   "source": [
    "import pandas as pd\n",
    "from sklearn.model_selection import train_test_split\n",
    "from sklearn.svm import SVR\n",
    "from sklearn.metrics import r2_score\n",
    "import xgboost as xgb\n",
    "from sklearn.decomposition import KernelPCA\n",
    "import numpy as np\n",
    "\n",
    "file_path = 'SDSS_DR18_GALAXY.csv'\n",
    "data = pd.read_csv(file_path).head(60000)\n",
    "\n",
    "X = data[['u', 'g', 'r', 'i', 'z']]\n",
    "y = data['redshift']\n",
    "\n",
    "X_train, X_test, y_train, y_test = train_test_split(X, y, test_size=0.2, random_state=42)\n",
    "\n",
    "kpca = KernelPCA(kernel='rbf', n_components=3) \n",
    "X_train_kpca = kpca.fit_transform(X_train)\n",
    "X_test_kpca = kpca.transform(X_test)\n",
    "\n",
    "xg_reg = xgb.XGBRegressor(objective='reg:squarederror', n_estimators=50, random_state=42)\n",
    "xg_reg.fit(X_train_kpca, y_train)\n",
    "y_pred_xgb = xg_reg.predict(X_test_kpca)\n",
    "\n",
    "svr_reg = SVR(kernel='rbf', C=1.0, epsilon=0.1)\n",
    "svr_reg.fit(X_train_kpca, y_train)\n",
    "y_pred_svr = svr_reg.predict(X_test_kpca)\n",
    "\n",
    "y_pred_combined = (y_pred_xgb + y_pred_svr) / 2\n",
    "\n",
    "r2_xgb = r2_score(y_test, y_pred_xgb)\n",
    "r2_svr = r2_score(y_test, y_pred_svr)\n",
    "r2_combined = r2_score(y_test, y_pred_combined)\n",
    "\n",
    "print(f\"XGBoost R² score: {r2_xgb}\")\n",
    "print(f\"SVR R² score: {r2_svr}\")\n",
    "print(f\"Combined Model R² score: {r2_combined}\")\n"
   ]
  }
 ],
 "metadata": {
  "kernelspec": {
   "display_name": "base",
   "language": "python",
   "name": "python3"
  },
  "language_info": {
   "codemirror_mode": {
    "name": "ipython",
    "version": 3
   },
   "file_extension": ".py",
   "mimetype": "text/x-python",
   "name": "python",
   "nbconvert_exporter": "python",
   "pygments_lexer": "ipython3",
   "version": "3.12.4"
  }
 },
 "nbformat": 4,
 "nbformat_minor": 2
}
