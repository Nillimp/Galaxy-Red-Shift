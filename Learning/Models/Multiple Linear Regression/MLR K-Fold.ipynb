{
 "cells": [
  {
   "cell_type": "code",
   "execution_count": 4,
   "metadata": {},
   "outputs": [
    {
     "name": "stdout",
     "output_type": "stream",
     "text": [
      "Mean RMSE (Cross-Validation): 3.0666100494816737\n",
      "Mean R-squared (Cross-Validation): -2280.1789610825786\n"
     ]
    }
   ],
   "source": [
    "import pandas as pd\n",
    "from sklearn.model_selection import train_test_split, KFold, cross_val_score\n",
    "from sklearn.linear_model import LinearRegression\n",
    "from sklearn.metrics import mean_squared_error, r2_score\n",
    "\n",
    "file_path = 'SDSS_DR18_GALAXY.csv'\n",
    "data = pd.read_csv(file_path)\n",
    "\n",
    "X = data[['u', 'g', 'r', 'i', 'z']]\n",
    "y = data['redshift']\n",
    "\n",
    "kf = KFold(n_splits=5, shuffle=True, random_state=42)\n",
    "\n",
    "model_cv = LinearRegression()\n",
    "\n",
    "rmse_cv = -cross_val_score(model_cv, X, y, cv=kf, scoring='neg_root_mean_squared_error')\n",
    "r2_cv = cross_val_score(model_cv, X, y, cv=kf, scoring='r2')\n",
    "\n",
    "mean_rmse_cv = rmse_cv.mean()\n",
    "mean_r2_cv = r2_cv.mean()\n",
    "\n",
    "print(\"Mean RMSE (Cross-Validation):\", mean_rmse_cv)\n",
    "print(\"Mean R-squared (Cross-Validation):\", mean_r2_cv)\n"
   ]
  }
 ],
 "metadata": {
  "kernelspec": {
   "display_name": "base",
   "language": "python",
   "name": "python3"
  },
  "language_info": {
   "codemirror_mode": {
    "name": "ipython",
    "version": 3
   },
   "file_extension": ".py",
   "mimetype": "text/x-python",
   "name": "python",
   "nbconvert_exporter": "python",
   "pygments_lexer": "ipython3",
   "version": "3.12.4"
  }
 },
 "nbformat": 4,
 "nbformat_minor": 2
}
