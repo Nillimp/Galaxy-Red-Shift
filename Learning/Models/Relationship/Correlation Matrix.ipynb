{
 "cells": [
  {
   "cell_type": "code",
   "execution_count": 1,
   "metadata": {},
   "outputs": [],
   "source": [
    "import pandas as pd\n",
    "import seaborn as sns\n",
    "import matplotlib.pyplot as plt"
   ]
  },
  {
   "cell_type": "code",
   "execution_count": 2,
   "metadata": {},
   "outputs": [
    {
     "data": {
      "text/html": [
       "<div>\n",
       "<style scoped>\n",
       "    .dataframe tbody tr th:only-of-type {\n",
       "        vertical-align: middle;\n",
       "    }\n",
       "\n",
       "    .dataframe tbody tr th {\n",
       "        vertical-align: top;\n",
       "    }\n",
       "\n",
       "    .dataframe thead th {\n",
       "        text-align: right;\n",
       "    }\n",
       "</style>\n",
       "<table border=\"1\" class=\"dataframe\">\n",
       "  <thead>\n",
       "    <tr style=\"text-align: right;\">\n",
       "      <th></th>\n",
       "      <th>objid</th>\n",
       "      <th>specobjid</th>\n",
       "      <th>ra</th>\n",
       "      <th>dec</th>\n",
       "      <th>u</th>\n",
       "      <th>g</th>\n",
       "      <th>r</th>\n",
       "      <th>i</th>\n",
       "      <th>z</th>\n",
       "      <th>modelFlux_u</th>\n",
       "      <th>...</th>\n",
       "      <th>psfMag_z</th>\n",
       "      <th>expAB_u</th>\n",
       "      <th>expAB_g</th>\n",
       "      <th>expAB_r</th>\n",
       "      <th>expAB_i</th>\n",
       "      <th>expAB_z</th>\n",
       "      <th>class</th>\n",
       "      <th>subclass</th>\n",
       "      <th>redshift</th>\n",
       "      <th>redshift_err</th>\n",
       "    </tr>\n",
       "  </thead>\n",
       "  <tbody>\n",
       "    <tr>\n",
       "      <th>0</th>\n",
       "      <td>1.240000e+18</td>\n",
       "      <td>8.180000e+18</td>\n",
       "      <td>82.038679</td>\n",
       "      <td>0.847177</td>\n",
       "      <td>21.73818</td>\n",
       "      <td>20.26633</td>\n",
       "      <td>19.32409</td>\n",
       "      <td>18.64037</td>\n",
       "      <td>18.23833</td>\n",
       "      <td>2.007378</td>\n",
       "      <td>...</td>\n",
       "      <td>19.43575</td>\n",
       "      <td>0.099951</td>\n",
       "      <td>0.311864</td>\n",
       "      <td>0.289370</td>\n",
       "      <td>0.270588</td>\n",
       "      <td>0.187182</td>\n",
       "      <td>GALAXY</td>\n",
       "      <td>STARFORMING</td>\n",
       "      <td>0.067749</td>\n",
       "      <td>0.000015</td>\n",
       "    </tr>\n",
       "    <tr>\n",
       "      <th>1</th>\n",
       "      <td>1.240000e+18</td>\n",
       "      <td>8.180000e+18</td>\n",
       "      <td>82.138894</td>\n",
       "      <td>1.063072</td>\n",
       "      <td>20.66761</td>\n",
       "      <td>19.32016</td>\n",
       "      <td>18.67888</td>\n",
       "      <td>18.24693</td>\n",
       "      <td>18.04122</td>\n",
       "      <td>5.403369</td>\n",
       "      <td>...</td>\n",
       "      <td>18.85012</td>\n",
       "      <td>0.366549</td>\n",
       "      <td>0.516876</td>\n",
       "      <td>0.517447</td>\n",
       "      <td>0.552297</td>\n",
       "      <td>0.636966</td>\n",
       "      <td>GALAXY</td>\n",
       "      <td>STARFORMING</td>\n",
       "      <td>0.105118</td>\n",
       "      <td>0.000010</td>\n",
       "    </tr>\n",
       "    <tr>\n",
       "      <th>2</th>\n",
       "      <td>1.240000e+18</td>\n",
       "      <td>8.180000e+18</td>\n",
       "      <td>82.028510</td>\n",
       "      <td>1.104003</td>\n",
       "      <td>23.63531</td>\n",
       "      <td>21.19671</td>\n",
       "      <td>19.92297</td>\n",
       "      <td>19.31443</td>\n",
       "      <td>18.68396</td>\n",
       "      <td>0.295693</td>\n",
       "      <td>...</td>\n",
       "      <td>19.42235</td>\n",
       "      <td>0.050000</td>\n",
       "      <td>0.417137</td>\n",
       "      <td>0.506950</td>\n",
       "      <td>0.549881</td>\n",
       "      <td>0.370166</td>\n",
       "      <td>GALAXY</td>\n",
       "      <td>STARFORMING</td>\n",
       "      <td>0.234089</td>\n",
       "      <td>0.000030</td>\n",
       "    </tr>\n",
       "    <tr>\n",
       "      <th>3</th>\n",
       "      <td>1.240000e+18</td>\n",
       "      <td>3.320000e+17</td>\n",
       "      <td>198.544469</td>\n",
       "      <td>-1.097059</td>\n",
       "      <td>20.12374</td>\n",
       "      <td>18.41520</td>\n",
       "      <td>17.47202</td>\n",
       "      <td>17.05297</td>\n",
       "      <td>16.72423</td>\n",
       "      <td>8.920645</td>\n",
       "      <td>...</td>\n",
       "      <td>18.03204</td>\n",
       "      <td>0.310763</td>\n",
       "      <td>0.356827</td>\n",
       "      <td>0.389345</td>\n",
       "      <td>0.388160</td>\n",
       "      <td>0.416660</td>\n",
       "      <td>GALAXY</td>\n",
       "      <td>STARFORMING</td>\n",
       "      <td>0.110825</td>\n",
       "      <td>0.000030</td>\n",
       "    </tr>\n",
       "    <tr>\n",
       "      <th>4</th>\n",
       "      <td>1.240000e+18</td>\n",
       "      <td>3.320000e+17</td>\n",
       "      <td>198.720675</td>\n",
       "      <td>-1.083876</td>\n",
       "      <td>19.47473</td>\n",
       "      <td>18.18575</td>\n",
       "      <td>17.52763</td>\n",
       "      <td>17.14837</td>\n",
       "      <td>16.89580</td>\n",
       "      <td>16.220930</td>\n",
       "      <td>...</td>\n",
       "      <td>18.23220</td>\n",
       "      <td>0.754158</td>\n",
       "      <td>0.767767</td>\n",
       "      <td>0.759105</td>\n",
       "      <td>0.742471</td>\n",
       "      <td>0.721491</td>\n",
       "      <td>GALAXY</td>\n",
       "      <td>STARFORMING</td>\n",
       "      <td>0.111458</td>\n",
       "      <td>0.000011</td>\n",
       "    </tr>\n",
       "  </tbody>\n",
       "</table>\n",
       "<p>5 rows × 43 columns</p>\n",
       "</div>"
      ],
      "text/plain": [
       "          objid     specobjid          ra       dec         u         g  \\\n",
       "0  1.240000e+18  8.180000e+18   82.038679  0.847177  21.73818  20.26633   \n",
       "1  1.240000e+18  8.180000e+18   82.138894  1.063072  20.66761  19.32016   \n",
       "2  1.240000e+18  8.180000e+18   82.028510  1.104003  23.63531  21.19671   \n",
       "3  1.240000e+18  3.320000e+17  198.544469 -1.097059  20.12374  18.41520   \n",
       "4  1.240000e+18  3.320000e+17  198.720675 -1.083876  19.47473  18.18575   \n",
       "\n",
       "          r         i         z  modelFlux_u  ...  psfMag_z   expAB_u  \\\n",
       "0  19.32409  18.64037  18.23833     2.007378  ...  19.43575  0.099951   \n",
       "1  18.67888  18.24693  18.04122     5.403369  ...  18.85012  0.366549   \n",
       "2  19.92297  19.31443  18.68396     0.295693  ...  19.42235  0.050000   \n",
       "3  17.47202  17.05297  16.72423     8.920645  ...  18.03204  0.310763   \n",
       "4  17.52763  17.14837  16.89580    16.220930  ...  18.23220  0.754158   \n",
       "\n",
       "    expAB_g   expAB_r   expAB_i   expAB_z   class     subclass  redshift  \\\n",
       "0  0.311864  0.289370  0.270588  0.187182  GALAXY  STARFORMING  0.067749   \n",
       "1  0.516876  0.517447  0.552297  0.636966  GALAXY  STARFORMING  0.105118   \n",
       "2  0.417137  0.506950  0.549881  0.370166  GALAXY  STARFORMING  0.234089   \n",
       "3  0.356827  0.389345  0.388160  0.416660  GALAXY  STARFORMING  0.110825   \n",
       "4  0.767767  0.759105  0.742471  0.721491  GALAXY  STARFORMING  0.111458   \n",
       "\n",
       "   redshift_err  \n",
       "0      0.000015  \n",
       "1      0.000010  \n",
       "2      0.000030  \n",
       "3      0.000030  \n",
       "4      0.000011  \n",
       "\n",
       "[5 rows x 43 columns]"
      ]
     },
     "execution_count": 2,
     "metadata": {},
     "output_type": "execute_result"
    }
   ],
   "source": [
    "df = pd.read_csv('SDSS_DR18_GALAXY.csv')\n",
    "df.head()"
   ]
  },
  {
   "cell_type": "code",
   "execution_count": 3,
   "metadata": {},
   "outputs": [],
   "source": [
    "collinear_features = df[['u', 'g', 'r', 'i', 'z', ]]"
   ]
  },
  {
   "cell_type": "code",
   "execution_count": 4,
   "metadata": {},
   "outputs": [],
   "source": [
    "correlation_matrix_collinear = collinear_features.corr()"
   ]
  },
  {
   "cell_type": "code",
   "execution_count": 6,
   "metadata": {},
   "outputs": [
    {
     "data": {
      "image/png": "[encoded data removed]",
      "text/plain": [
       "<Figure size 600x500 with 2 Axes>"
      ]
     },
     "metadata": {},
     "output_type": "display_data"
    }
   ],
   "source": [
    "plt.figure(figsize=(6, 5))\n",
    "sns.heatmap(correlation_matrix_collinear, annot=True, cmap=\"coolwarm\", vmin=-1, vmax=1)\n",
    "plt.title('Heatmap of Collinear Features Correlation')\n",
    "plt.show()"
   ]
  },
  {
   "cell_type": "code",
   "execution_count": 8,
   "metadata": {},
   "outputs": [],
   "source": [
    "photometric_bands = df[['u', 'g', 'r', 'i', 'z']]"
   ]
  },
  {
   "cell_type": "code",
   "execution_count": 9,
   "metadata": {},
   "outputs": [],
   "source": [
    "correlation_matrix = photometric_bands.corr(method='pearson')\n"
   ]
  },
  {
   "cell_type": "code",
   "execution_count": 10,
   "metadata": {},
   "outputs": [
    {
     "name": "stdout",
     "output_type": "stream",
     "text": [
      "Pearson Correlation Coefficient Matrix:\n",
      "          u         g         r         i         z\n",
      "u  1.000000  0.999983  0.948659  0.899978  0.877041\n",
      "g  0.999983  1.000000  0.948682  0.900001  0.877056\n",
      "r  0.948659  0.948682  1.000000  0.948685  0.832057\n",
      "i  0.899978  0.900001  0.948685  1.000000  0.877063\n",
      "z  0.877041  0.877056  0.832057  0.877063  1.000000\n"
     ]
    }
   ],
   "source": [
    "print(\"Pearson Correlation Coefficient Matrix:\")\n",
    "print(correlation_matrix)"
   ]
  }
 ],
 "metadata": {
  "kernelspec": {
   "display_name": "base",
   "language": "python",
   "name": "python3"
  },
  "language_info": {
   "codemirror_mode": {
    "name": "ipython",
    "version": 3
   },
   "file_extension": ".py",
   "mimetype": "text/x-python",
   "name": "python",
   "nbconvert_exporter": "python",
   "pygments_lexer": "ipython3",
   "version": "3.12.4"
  }
 },
 "nbformat": 4,
 "nbformat_minor": 2
}
